{
 "cells": [
  {
   "cell_type": "markdown",
   "metadata": {},
   "source": [
    "<h1><center> Use of geoprocessing to highlight the improvement of air quality in relation to confinement due to covid-19</center></h1>"
   ]
  },
  {
   "cell_type": "markdown",
   "metadata": {},
   "source": [
    "### Module importation and definition of the root directory"
   ]
  },
  {
   "cell_type": "code",
   "execution_count": null,
   "metadata": {
    "scrolled": true
   },
   "outputs": [],
   "source": [
    "import arcpy\n",
    "import matplotlib.pyplot as plt\n",
    "import numpy as np\n",
    "from datetime import datetime\n",
    "\n",
    "root = input(\"Choose your root directory: \") # e.g. \"D:/Arcgis/Airparif/\"\n",
    "arcpy.env.workspace = root"
   ]
  },
  {
   "cell_type": "markdown",
   "metadata": {},
   "source": [
    "### First we have to check if the date wanted by the user is contained in the database"
   ]
  },
  {
   "cell_type": "markdown",
   "metadata": {},
   "source": [
    "#### Importing all dates from the database into a list"
   ]
  },
  {
   "cell_type": "code",
   "execution_count": null,
   "metadata": {},
   "outputs": [],
   "source": [
    "all_dates_debut =[]\n",
    "for row in arcpy.da.SearchCursor(\"mes_idf_horaire_no2.shp\", \"date_debut\"):\n",
    "    all_dates_debut.append(row)\n",
    "\n",
    "all_dates = []\n",
    "for date in all_dates_debut:\n",
    "    all_dates.append(date[0])"
   ]
  },
  {
   "cell_type": "markdown",
   "metadata": {},
   "source": [
    "#### Function for checking whether an entered date is in the database"
   ]
  },
  {
   "cell_type": "code",
   "execution_count": null,
   "metadata": {},
   "outputs": [],
   "source": [
    "def test_date(d,m,y,h):\n",
    "    \n",
    "#   if statements to be compatible with the database format: '2020-04-01T08:00:00.000Z'\n",
    "\n",
    "    if h < 10:\n",
    "        h = \"0\" + str(h)\n",
    "    \n",
    "    if d < 10:\n",
    "        d = \"0\" + str(d)\n",
    "    \n",
    "    if m < 10:\n",
    "        m = \"0\" + str(m)\n",
    "\n",
    "    date = str(y) + '-' + str(m) + '-' + str(d) + 'T' + str(h) + ':00:00.000Z'\n",
    "    \n",
    "    return date in all_dates"
   ]
  },
  {
   "cell_type": "markdown",
   "metadata": {},
   "source": [
    "### IDW function to calculate the interpolation of pollution at a user-defined date\n",
    "#### Since we know the NO2 measurements at each station, it is possible to determine the pollution levels between stations using this interpolation function"
   ]
  },
  {
   "cell_type": "code",
   "execution_count": null,
   "metadata": {},
   "outputs": [],
   "source": [
    "def IDW(d,m,y,h):\n",
    "\n",
    "#   if statements to be compatible with the database format: '2020-04-01T08:00:00.000Z'\n",
    "    \n",
    "    if h < 10:\n",
    "        h = \"0\" + str(h)\n",
    "    \n",
    "    if d < 10:\n",
    "        d = \"0\" + str(d)\n",
    "    \n",
    "    if m < 10:\n",
    "        m = \"0\" + str(m)\n",
    "\n",
    "    date = \"'\" + str(y) + '-' + str(m) + '-' + str(d) + 'T' + str(h) + ':00:00.000Z' + \"'\"\n",
    "    \n",
    "    if arcpy.Exists(\"selection_lyr\"):\n",
    "        arcpy.Delete_management(\"selection_lyr\")\n",
    "        \n",
    "    arcpy.MakeFeatureLayer_management(\"mes_idf_horaire_no2.shp\", \"selection_lyr\")\n",
    "    \n",
    "    layer_name = \"Result_\" +  str(m) + '_' + str(d) + '_' + str(y)+ '_'  + str(h) + \".shp\"\n",
    "    \n",
    "    if arcpy.Exists(layer_name):\n",
    "        arcpy.Delete_management(layer_name)\n",
    "    \n",
    "    qry = \"date_debut = \" + date\n",
    "\n",
    "#   SQL queries to select the results of the dates entered\n",
    "    \n",
    "    arcpy.SelectLayerByAttribute_management(\"selection_lyr\", 'NEW_SELECTION', qry)\n",
    "    arcpy.CopyFeatures_management(\"selection_lyr\", layer_name)\n",
    "    \n",
    "    Idw_name = \"Idw_\" + str(m) + '_' + str(d) + '_' + str(y)+ '_'  + str(h) + \".tif\"\n",
    "    \n",
    "    if arcpy.Exists(root + Idw_name):\n",
    "                arcpy.Delete_management(root + Idw_name)\n",
    "            \n",
    "    inPointFeatures = layer_name\n",
    "    zField = \"valeur\"\n",
    "\n",
    "#   Interpolations with IDW tool according to the pollution\n",
    "    \n",
    "    Idw = arcpy.sa.Idw(inPointFeatures, zField)\n",
    "    \n",
    "    return Idw"
   ]
  },
  {
   "cell_type": "markdown",
   "metadata": {},
   "source": [
    "### Difference_IDW function to return the difference between IDW1 and IDW2"
   ]
  },
  {
   "cell_type": "code",
   "execution_count": null,
   "metadata": {},
   "outputs": [],
   "source": [
    "def Difference_IDW(Idw1,Idw2):\n",
    "\n",
    "#   Calculation of the raster showing pollution difference between the first date and the second date\n",
    "    \n",
    "    DifferenceRasterName = root + \"Difference\"\n",
    "    \n",
    "    if arcpy.Exists(DifferenceRasterName):\n",
    "                arcpy.Delete_management(DifferenceRasterName)\n",
    "\n",
    "    arcpy.CheckOutExtension(\"Spatial\")\n",
    "    \n",
    "    DifferenceRaster = Idw1 - Idw2\n",
    "    \n",
    "    return DifferenceRaster"
   ]
  },
  {
   "cell_type": "markdown",
   "metadata": {},
   "source": [
    "### SumPop function to return the number of inhabitants whose pollution has decreased by a certain user-defined threshold"
   ]
  },
  {
   "cell_type": "code",
   "execution_count": null,
   "metadata": {},
   "outputs": [],
   "source": [
    "def SumPop(DifferenceRaster,delta):    \n",
    "\n",
    "    BinaryName = \"Binaire\"\n",
    "    \n",
    "    if arcpy.Exists(root + BinaryName):\n",
    "                arcpy.Delete_management(root + BinaryName)\n",
    "\n",
    "#   Use of the Con function to get a binary raster showing where pollution is over (-> 1) or under (-> 0) the threshold\n",
    "            \n",
    "    Binaire = arcpy.sa.Con(DifferenceRaster, 1, 0, \"VALUE > \" + str(delta))\n",
    "    \n",
    "#   We retrieve the population density from another file\n",
    "\n",
    "    population_density = arcpy.Raster(root + \"FranceRasters.gdb/France_ppp_2020_1km\")\n",
    "\n",
    "    PopulationName = \"Population\"\n",
    "    \n",
    "    if arcpy.Exists(root + PopulationName):\n",
    "                arcpy.Delete_management(root + PopulationName)\n",
    "            \n",
    "#   We multiply the binary raster with the population density to get a raster showing the density of population above\n",
    "#   the threshold\n",
    "\n",
    "    Population = Binaire * population_density\n",
    "    Population.save(root + PopulationName)\n",
    "    \n",
    "#   We convert this raster to a numpy array to be able to sum all the population\n",
    "\n",
    "    data = arcpy.RasterToNumPyArray(Population)\n",
    "    somme = np.sum(data)\n",
    "    return somme"
   ]
  },
  {
   "cell_type": "markdown",
   "metadata": {},
   "source": [
    "### varDelta function to return the graph of the number of inhabitants as a function of the pollution reduction threshold for 2 user-defined dates"
   ]
  },
  {
   "cell_type": "code",
   "execution_count": null,
   "metadata": {},
   "outputs": [],
   "source": [
    "def varDelta(d1,m1,y1,d2,m2,y2,h1,h2,deltaMax):\n",
    "\n",
    "#   We check if the date exists, if so, we run the function\n",
    "\n",
    "    if test_date(d1,m1,y1,h1) and test_date(d2,m2,y2,h2):\n",
    "        \n",
    "        sumPopulation = []\n",
    "        delta = np.arange(deltaMax+1)\n",
    "        Idw1 = IDW(d1,m1,y1,h1)\n",
    "        Idw2 = IDW(d2,m2,y2,h2)\n",
    "        Raster = Difference_IDW(Idw1,Idw2)\n",
    "        \n",
    "#       We calculated the raster difference, and the for statement is used to calculate the number of inhabitants for every\n",
    "#       threshold from 0 to deltaMax\n",
    "        \n",
    "        for i in delta:\n",
    "            \n",
    "            sumPopulation.append(SumPop(Raster,i))\n",
    "#             print(i, \"\\n\", sumPopulation[i])\n",
    "\n",
    "        sumPopulation = np.array(sumPopulation) / 1e6 # to plot in millions of inhabitants\n",
    "\n",
    "        plt.plot(delta,sumPopulation)\n",
    "        plt.title(\"Change in the number of inhabitants whose air quality has improved between \" + str(d1) + '-' + str(m1) + '-' + str(y1) + \" and \" + str(d2) + '-' + str(m2) + '-' + str(y2))\n",
    "        plt.xlabel(\"Decrease of pollution (µg/m$^3$)\")\n",
    "        plt.ylabel(\"Number of inhabitants (millions)\")\n",
    "        plt.grid()\n",
    "        plt.ylim(0)\n",
    "    \n",
    "#   If the date doesn't exit in the database, we print an error message showing which date isn't correct\n",
    "    \n",
    "    elif not(test_date(d1,m1,y1,h1)) and not(test_date(d2,m2,y2,h2)):\n",
    "        print(\"Both dates are not in the database\")\n",
    "    elif not(test_date(d1,m1,y1,h1)):\n",
    "        print(\"The first date is not in the database\")\n",
    "    else:\n",
    "        print(\"The second date is not in the database\")"
   ]
  },
  {
   "attachments": {},
   "cell_type": "markdown",
   "metadata": {},
   "source": [
    "### Use of the varDelta function\n",
    "\n",
    "Results:\n",
    "<img src=images/graph1.jpg>"
   ]
  },
  {
   "cell_type": "markdown",
   "metadata": {},
   "source": [
    "### varDateMonth function to return the graph of the number of inhabitants whose pollution has decreased by more than a certain level each month between two user-defined dates"
   ]
  },
  {
   "cell_type": "code",
   "execution_count": null,
   "metadata": {},
   "outputs": [],
   "source": [
    "def varDateMonth(d1,m1,y1,d2,m2,y2,h1,h2,delta):\n",
    "    \n",
    "#   We check if the date exists, if so, we run the function\n",
    "\n",
    "    if test_date(d1,m1,y1,h1) and test_date(d2,m2,y2,h2):\n",
    "        \n",
    "        month = m1+1\n",
    "        year = y1\n",
    "        sumPopulation = [0]\n",
    "\n",
    "        Idw1 = IDW(d1,m1,y1,h1)\n",
    "\n",
    "#       We calculate the amount of people each month from the first date to the second date relatively to the first date\n",
    "\n",
    "        while datetime(year,month,d1) < datetime(y2,m2,d2):\n",
    "\n",
    "            Idw2 = IDW(d2,month,year,h2)\n",
    "            Raster = Difference_IDW(Idw1,Idw2)\n",
    "            sumPopulation.append(SumPop(Raster,delta))\n",
    "\n",
    "#      We increment the date to do the calculation for the following month\n",
    "\n",
    "            if month < 12:\n",
    "                month += 1\n",
    "            else:\n",
    "                month = 1\n",
    "                year += 1\n",
    "\n",
    "#       We calculate the amount of people at the second date\n",
    "                \n",
    "        Idw2 = IDW(d2,m2,y2,h2)\n",
    "\n",
    "        Raster = Difference_IDW(Idw1,Idw2)\n",
    "\n",
    "        sumPopulation.append(SumPop(Raster,delta))\n",
    "\n",
    "        sumPopulation = np.array(sumPopulation) / 1e6\n",
    "\n",
    "        n_month = np.arange(len(sumPopulation))\n",
    "\n",
    "        plt.plot(n_month,sumPopulation)\n",
    "\n",
    "        plt.title(\"Number of inhabitants whose air quality has improved by \" + str(delta) + \" (µg/m$^3$) between \" + str(d2) + '-' + str(m2) + '-' + str(y2) + \" and \" + str(d1) + '-' + str(m1) + '-' + str(y1))\n",
    "        plt.xlabel(\"Nomber of month(s)\")\n",
    "        plt.ylabel(\"Number of inhabitants (millions)\")\n",
    "        \n",
    "#   If the date doesn't exit in the database, we print an error message showing which date isn't correct\n",
    "    \n",
    "    elif not(test_date(d1,m1,y1,h1)) and not(test_date(d2,m2,y2,h2)):\n",
    "        print(\"Both dates are not in the database\")\n",
    "    elif not(test_date(d1,m1,y1,h1)):\n",
    "        print(\"The first date is not in the database\")\n",
    "    else:\n",
    "        print(\"The second date is not in the database\")"
   ]
  },
  {
   "attachments": {},
   "cell_type": "markdown",
   "metadata": {},
   "source": [
    "### Use of the varDateMonth function\n",
    "\n",
    "Results:\n",
    "<img src=images/varDateMonth.png>"
   ]
  },
  {
   "cell_type": "markdown",
   "metadata": {},
   "source": [
    "### varDateDay function to return the graph of the number of inhabitants whose pollution has decreased by more than a certain level each day between two user-defined dates"
   ]
  },
  {
   "cell_type": "code",
   "execution_count": null,
   "metadata": {},
   "outputs": [],
   "source": [
    "def varDateDay(d1,m1,y1,d2,m2,y2,h1,h2,delta):\n",
    "    \n",
    "#   We check if the date exists, if so, we run the function\n",
    "\n",
    "    if test_date(d1,m1,y1,h1) and test_date(d2,m2,y2,h2):\n",
    "        \n",
    "        month = m1\n",
    "        year = y1\n",
    "        day = d1+1\n",
    "        sumPopulation = [0]\n",
    "\n",
    "        monthsDays = [31,28,31,30,31,30,31,31,30,31,30,31]\n",
    "\n",
    "        Idw1 = IDW(d1,m1,y1,h1)\n",
    "        \n",
    "#       We calculate the amount of people each day from the first date to the second date relatively to the first date\n",
    "\n",
    "        while datetime(year,month,day) < datetime(y2,m2,d2):\n",
    "            Idw2 = IDW(day,month,year,h2)\n",
    "            Raster = Difference_IDW(Idw1,Idw2)\n",
    "            sumPopulation.append(SumPop(Raster,delta))\n",
    "\n",
    "            if (year%4 == 0 and year%100 != 0) or year%400 == 0:\n",
    "                monthsDays[1] = 29\n",
    "            else:\n",
    "                monthsDays[1] = 28\n",
    "\n",
    "            if day < monthsDays[month-1]:\n",
    "                day +=1\n",
    "            else:\n",
    "                day = 1\n",
    "\n",
    "                if month < 12:\n",
    "                    month += 1\n",
    "                else:\n",
    "                    month = 1\n",
    "                    year += 1\n",
    "\n",
    "#       We calculate the amount of people at the second date\n",
    "                    \n",
    "        Idw2 = IDW(d2,m2,y2,h2)\n",
    "        Raster = Difference_IDW(Idw1,Idw2)\n",
    "        sumPopulation.append(SumPop(Raster,delta))\n",
    "\n",
    "        sumPopulation = np.array(sumPopulation) / 1e6\n",
    "\n",
    "        n_day = np.arange(len(sumPopulation))\n",
    "\n",
    "        plt.plot(n_day,sumPopulation)\n",
    "        \n",
    "        plt.title(\"Number of inhabitants whose air quality has improved by \" + str(delta) + \" (µg/m$^3$) between \" + str(d2) + '-' + str(m2) + '-' + str(y2) + \" and \" + str(d1) + '-' + str(m1) + '-' + str(y1))\n",
    "        plt.xlabel(\"Number of day(s)\")\n",
    "        plt.ylabel(\"Number of inhabitants (millions)\")\n",
    "        \n",
    "#   If the date doesn't exit in the database, we print an error message showing which date isn't correct\n",
    "    \n",
    "    elif not(test_date(d1,m1,y1,h1)) and not(test_date(d2,m2,y2,h2)):\n",
    "        print(\"Both dates are not in the database\")\n",
    "    elif not(test_date(d1,m1,y1,h1)):\n",
    "        print(\"The first date is not in the database\")\n",
    "    else:\n",
    "        print(\"The second date is not in the database\")"
   ]
  },
  {
   "attachments": {},
   "cell_type": "markdown",
   "metadata": {},
   "source": [
    "### Use of the varDateDay function\n",
    "\n",
    "Results:\n",
    "<img src=images/varDateDay.png>"
   ]
  },
  {
   "cell_type": "markdown",
   "metadata": {},
   "source": [
    "## <span style=\"color:orange\"><span style=\"text-decoration:underline\">Main user interface</span>"
   ]
  },
  {
   "cell_type": "code",
   "execution_count": null,
   "metadata": {},
   "outputs": [],
   "source": [
    "view = input(\"To view the number of inhabitants as a function of the pollution reduction threshold for 2 user-defined dates, enter 'varDelta',\\nTo view the number of inhabitants whose pollution has decreased by more than a certain level each month between two user-defined dates, enter 'varDateMonth',\\nTo view the number of inhabitants whose pollution has decreased by more than a certain level each day between two user-defined dates, enter 'varDateDay'\\n->\")\n",
    "print(\"\\n\")\n",
    "\n",
    "day1 = int(input(\"Choose the day of the first date: \"))\n",
    "month1 = int(input(\"Choose the month of the first date: \"))\n",
    "year1 = int(input(\"Choose the year of the first date: \"))\n",
    "hour1 = int(input(\"Choose the hour of the first date: \"))\n",
    "\n",
    "day2 = int(input(\"Choose the day of the second date: \"))\n",
    "month2 = int(input(\"Choose the month of the second date: \"))\n",
    "year2 = int(input(\"Choose the year of the second date: \"))\n",
    "hour2 = int(input(\"Choose the hour of the second date: \"))\n",
    "\n",
    "threshold = int(input(\"Choose the threshold of pollution: \"))\n",
    "\n",
    "if view == \"varDelta\":\n",
    "    print(\"varDelta function is running\")\n",
    "    varDelta(day1,month1,year1,day2,month2,year2,hour1,hour2,threshold)\n",
    "elif view == \"varDateMonth\":\n",
    "    print(\"varDateMonth function is running\")\n",
    "    varDateMonth(day1,month1,year1,day2,month2,year2,hour1,hour2,threshold)\n",
    "elif view == \"varDateDay\":\n",
    "    print(\"varDateDay function is running\")\n",
    "    varDateDay(day1,month1,year1,day2,month2,year2,hour1,hour2,threshold)\n",
    "else:\n",
    "    print(\"The name is not recognized\")"
   ]
  },
  {
   "cell_type": "markdown",
   "metadata": {},
   "source": [
    "### Pop_pollu function to return the number of inhabitants whom pollution has fallen by a certain threshold between two user-defined dates. It is mostly useful to see the results, layers, rasters... in ArcGIS"
   ]
  },
  {
   "cell_type": "code",
   "execution_count": null,
   "metadata": {},
   "outputs": [],
   "source": [
    "def Pop_pollu(d1,m1,y1,d2,m2,y2,h1,h2,delta):\n",
    "\n",
    "    from numpy import sum\n",
    "    \n",
    "#   We check if the date exists, if so, we run the function\n",
    "    if test_date(d1,m1,y1,h1) and test_date(d2,m2,y2,h2):\n",
    "    \n",
    "        if h1 < 10:\n",
    "            h1 = \"0\" + str(h1)\n",
    "        if h2 < 10:\n",
    "            h2 = \"0\" + str(h2)\n",
    "\n",
    "        if d1 < 10:\n",
    "            d1 = \"0\" + str(d1)\n",
    "        if d2 < 10:\n",
    "            d2 = \"0\" + str(d2)\n",
    "\n",
    "        if m1 < 10:\n",
    "            m1 = \"0\" + str(m1)\n",
    "        if m2 < 10:\n",
    "            m2 = \"0\" + str(m2)\n",
    "\n",
    "        date1 = \"'\" + str(y1) + '-' + str(m1) + '-' + str(d1) + 'T' + str(h1) + ':00:00.000Z' + \"'\"\n",
    "        date2 = \"'\" + str(y2) + '-' + str(m2) + '-' + str(d2) + 'T' + str(h2) + ':00:00.000Z' + \"'\"\n",
    "\n",
    "        if arcpy.Exists(\"selection_lyr\"):\n",
    "            arcpy.Delete_management(\"selection_lyr\")\n",
    "\n",
    "        arcpy.MakeFeatureLayer_management(\"mes_idf_horaire_no2.shp\", \"selection_lyr\")\n",
    "\n",
    "        layer_name1 = \"Result_\" +  str(m1) + '_' + str(d1) + '_' + str(y1)+ '_'  + str(h1) + \".shp\"\n",
    "        layer_name2 = \"Result_\" +  str(m2) + '_' + str(d2) + '_' + str(y2)+ '_'  + str(h2) + \".shp\"\n",
    "\n",
    "        if arcpy.Exists(layer_name1):\n",
    "            arcpy.Delete_management(layer_name1)\n",
    "\n",
    "        if arcpy.Exists(layer_name2):\n",
    "            arcpy.Delete_management(layer_name2)\n",
    "\n",
    "        qry1 = \"date_debut = \" + date1\n",
    "\n",
    "        qry2 = \"date_debut = \" + date2\n",
    "\n",
    "#       SQL queries to select the results of the dates entered\n",
    "        \n",
    "        arcpy.SelectLayerByAttribute_management(\"selection_lyr\", 'NEW_SELECTION', qry1)\n",
    "        arcpy.CopyFeatures_management(\"selection_lyr\", layer_name1)\n",
    "\n",
    "        arcpy.SelectLayerByAttribute_management(\"selection_lyr\", 'NEW_SELECTION', qry2)\n",
    "        arcpy.CopyFeatures_management(\"selection_lyr\", layer_name2)\n",
    "\n",
    "        Idw_name1 = \"Idw_\" + str(m1) + '_' + str(d1) + '_' + str(y1)+ '_'  + str(h1) + \".tif\"\n",
    "        Idw_name2 = \"Idw_\" + str(m2) + '_' + str(d2) + '_' + str(y2)+ '_'  + str(h2) + \".tif\"\n",
    "\n",
    "        if arcpy.Exists(Idw_name1):\n",
    "                    arcpy.Delete_management(Idw_name1)\n",
    "\n",
    "        if arcpy.Exists(Idw_name2):\n",
    "                arcpy.Delete_management(Idw_name2)\n",
    "\n",
    "        inPointFeatures1 = layer_name1\n",
    "        inPointFeatures2 = layer_name2\n",
    "        zField = \"valeur\"\n",
    "\n",
    "#       Interpolations with IDW tool according to the pollution\n",
    "        \n",
    "        Idw1 = arcpy.sa.Idw(inPointFeatures1, zField)\n",
    "        Idw1.save(Idw_name1)\n",
    "\n",
    "        Idw2 = arcpy.sa.Idw(inPointFeatures2, zField)\n",
    "        Idw2.save(Idw_name2)\n",
    "\n",
    "        DifferenceRasterName = \"Difference\"\n",
    "\n",
    "        if arcpy.Exists(DifferenceRasterName):\n",
    "                    arcpy.Delete_management(DifferenceRasterName)\n",
    "\n",
    "        arcpy.CheckOutExtension(\"Spatial\")\n",
    "        \n",
    "#       Calculation of the raster showing pollution difference between the first date and the second date\n",
    "        \n",
    "        DifferenceRaster = Idw1 - Idw2\n",
    "        DifferenceRaster.save(DifferenceRasterName)\n",
    "\n",
    "        BinaryName = \"Binaire\"\n",
    "\n",
    "        if arcpy.Exists(BinaryName):\n",
    "                    arcpy.Delete_management(BinaryName)\n",
    "                \n",
    "#       Use of the Con function to get a binary raster showing where pollution is over (-> 1) or under (-> 0) the threshold\n",
    "\n",
    "        Binaire = arcpy.sa.Con(DifferenceRaster, 1, 0, \"VALUE > \" + str(delta))\n",
    "        Binaire.save(BinaryName)\n",
    "\n",
    "#       We retrieve the population density from another file\n",
    "        \n",
    "        population_density = arcpy.Raster(\"FranceRasters.gdb/France_ppp_2020_1km\")\n",
    "\n",
    "        PopulationName = \"Population\"\n",
    "\n",
    "        if arcpy.Exists(PopulationName):\n",
    "                    arcpy.Delete_management(PopulationName)\n",
    "\n",
    "#       We multiply the binary raster with the population density to get a raster showing the density of population above\n",
    "#       the threshold\n",
    "                \n",
    "        Population = Binaire * population_density\n",
    "        Population.save(PopulationName)\n",
    "\n",
    "#       We convert this raster to a numpy array to be able to sum all the population\n",
    "\n",
    "        data = arcpy.RasterToNumPyArray(Population)\n",
    "        somme = sum(data)\n",
    "        \n",
    "        return somme\n",
    "        \n",
    "#   If the date doesn't exit in the database, we print an error message showing which date isn't correct\n",
    "        \n",
    "    elif not(test_date(d1,m1,y1,h1)) and not(test_date(d2,m2,y2,h2)):\n",
    "        print(\"Both dates are not in the database\")\n",
    "    elif not(test_date(d1,m1,y1,h1)):\n",
    "        print(\"The first date is not in the database\")\n",
    "    else:\n",
    "        print(\"The second date is not in the database\")"
   ]
  },
  {
   "attachments": {},
   "cell_type": "markdown",
   "metadata": {},
   "source": [
    "### Use of the Pop_pollu function\n",
    "\n",
    "Results:\n",
    "<img src=images/Pop_pollu.png>"
   ]
  },
  {
   "attachments": {},
   "cell_type": "markdown",
   "metadata": {},
   "source": [
    "Results in ArcGIS:\n",
    "\n",
    "Interpolations:\n",
    "<img src=images/IDW.png>"
   ]
  },
  {
   "attachments": {},
   "cell_type": "markdown",
   "metadata": {},
   "source": [
    "Difference raster:\n",
    "<img src=images/Difference.png>"
   ]
  },
  {
   "attachments": {},
   "cell_type": "markdown",
   "metadata": {},
   "source": [
    "Binary raster:\n",
    "<img src=images/Binary.png>"
   ]
  },
  {
   "attachments": {},
   "cell_type": "markdown",
   "metadata": {},
   "source": [
    "Population density raster:\n",
    "<img src=images/Population.png>"
   ]
  },
  {
   "cell_type": "markdown",
   "metadata": {},
   "source": [
    "###  <span style=\"color:orange\">User interface for the Pop_pollu function</style>"
   ]
  },
  {
   "cell_type": "code",
   "execution_count": null,
   "metadata": {},
   "outputs": [],
   "source": [
    "day1 = int(input(\"Choose the day of the first date: \"))\n",
    "month1 = int(input(\"Choose the month of the first date: \"))\n",
    "year1 = int(input(\"Choose the year of the first date: \"))\n",
    "hour1 = int(input(\"Choose the hour of the first date: \"))\n",
    "\n",
    "day2 = int(input(\"Choose the day of the second date: \"))\n",
    "month2 = int(input(\"Choose the month of the second date: \"))\n",
    "year2 = int(input(\"Choose the year of the second date: \"))\n",
    "hour2 = int(input(\"Choose the hour of the second date: \"))\n",
    "\n",
    "threshold = int(input(\"Choose the threshold of pollution: \"))\n",
    "\n",
    "amount = Pop_pollu(day1,month1,year1,day2,month2,year2,hour1,hour2,threshold)\n",
    "\n",
    "print(\"\\nNO2 levels decreased by at least\", threshold, \"(µg/m3) for\", round(amount), \"people between\",\n",
    "      str(day1) + \"-\" + str(month1) + \"-\" + str(year1), \"at\",\n",
    "      hour1, \"and\", str(day2) + \"-\" + str(month2) + \"-\" + str(year2), \"at\", hour2)\n",
    "      "
   ]
  }
 ],
 "metadata": {
  "kernelspec": {
   "display_name": "Python 3",
   "language": "python",
   "name": "python3"
  },
  "language_info": {
   "codemirror_mode": {
    "name": "ipython",
    "version": 3
   },
   "file_extension": ".py",
   "mimetype": "text/x-python",
   "name": "python",
   "nbconvert_exporter": "python",
   "pygments_lexer": "ipython3",
   "version": "3.6.9"
  }
 },
 "nbformat": 4,
 "nbformat_minor": 2
}
