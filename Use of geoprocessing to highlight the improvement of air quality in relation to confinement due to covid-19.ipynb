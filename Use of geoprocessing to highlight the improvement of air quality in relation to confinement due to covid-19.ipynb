{
 "cells": [
  {
   "cell_type": "markdown",
   "metadata": {},
   "source": [
    "<h1><center> Use of geoprocessing to highlight the improvement of air quality in relation to confinement due to covid-19</center></h1>"
   ]
  },
  {
   "cell_type": "markdown",
   "metadata": {},
   "source": [
    "### Module importation and definition of the root directory"
   ]
  },
  {
   "cell_type": "code",
   "execution_count": 1,
   "metadata": {
    "scrolled": true
   },
   "outputs": [
    {
     "name": "stdout",
     "output_type": "stream",
     "text": [
      "Choose your root directory: C:/Users/lenovo/Documents/ArcGIS/Airparif/\n"
     ]
    }
   ],
   "source": [
    "import arcpy\n",
    "import matplotlib.pyplot as plt\n",
    "import numpy as np\n",
    "from datetime import datetime\n",
    "\n",
    "root = input(\"Choose your root directory: \") # e.g. \"D:/Arcgis/Airparif/\"\n",
    "arcpy.env.workspace = root"
   ]
  },
  {
   "cell_type": "markdown",
   "metadata": {},
   "source": [
    "### First we have to check if the date wanted by the user is contained in the database"
   ]
  },
  {
   "cell_type": "markdown",
   "metadata": {},
   "source": [
    "#### Importing all dates from the database into a list"
   ]
  },
  {
   "cell_type": "code",
   "execution_count": 2,
   "metadata": {},
   "outputs": [],
   "source": [
    "all_dates_debut =[]\n",
    "for row in arcpy.da.SearchCursor(\"mes_idf_horaire_no2.shp\", \"date_debut\"):\n",
    "    all_dates_debut.append(row)\n",
    "\n",
    "all_dates = []\n",
    "for date in all_dates_debut:\n",
    "    all_dates.append(date[0])"
   ]
  },
  {
   "cell_type": "markdown",
   "metadata": {},
   "source": [
    "#### Function for checking whether an entered date is in the database"
   ]
  },
  {
   "cell_type": "code",
   "execution_count": 3,
   "metadata": {},
   "outputs": [],
   "source": [
    "def test_date(d,m,y,h):\n",
    "    \n",
    "#   if statements to be compatible with the database format: '2020-04-01T08:00:00.000Z'\n",
    "\n",
    "    if h < 10:\n",
    "        h = \"0\" + str(h)\n",
    "    \n",
    "    if d < 10:\n",
    "        d = \"0\" + str(d)\n",
    "    \n",
    "    if m < 10:\n",
    "        m = \"0\" + str(m)\n",
    "\n",
    "    date = str(y) + '-' + str(m) + '-' + str(d) + 'T' + str(h) + ':00:00.000Z'\n",
    "    \n",
    "    return date in all_dates"
   ]
  },
  {
   "cell_type": "markdown",
   "metadata": {},
   "source": [
    "### IDW function to calculate the interpolation of pollution at a user-defined date\n",
    "#### Since we know the NO2 measurements at each station, it is possible to determine the pollution levels between stations using this interpolation function"
   ]
  },
  {
   "cell_type": "code",
   "execution_count": 4,
   "metadata": {},
   "outputs": [],
   "source": [
    "def IDW(d,m,y,h):\n",
    "\n",
    "#   if statements to be compatible with the database format: '2020-04-01T08:00:00.000Z'\n",
    "    \n",
    "    if h < 10:\n",
    "        h = \"0\" + str(h)\n",
    "    \n",
    "    if d < 10:\n",
    "        d = \"0\" + str(d)\n",
    "    \n",
    "    if m < 10:\n",
    "        m = \"0\" + str(m)\n",
    "\n",
    "    date = \"'\" + str(y) + '-' + str(m) + '-' + str(d) + 'T' + str(h) + ':00:00.000Z' + \"'\"\n",
    "    \n",
    "    if arcpy.Exists(\"selection_lyr\"):\n",
    "        arcpy.Delete_management(\"selection_lyr\")\n",
    "        \n",
    "    arcpy.MakeFeatureLayer_management(\"mes_idf_horaire_no2.shp\", \"selection_lyr\")\n",
    "    \n",
    "    layer_name = \"Result_\" +  str(m) + '_' + str(d) + '_' + str(y)+ '_'  + str(h) + \".shp\"\n",
    "    \n",
    "    if arcpy.Exists(layer_name):\n",
    "        arcpy.Delete_management(layer_name)\n",
    "    \n",
    "    qry = \"date_debut = \" + date\n",
    "\n",
    "#   SQL queries to select the results of the dates entered\n",
    "    \n",
    "    arcpy.SelectLayerByAttribute_management(\"selection_lyr\", 'NEW_SELECTION', qry)\n",
    "    arcpy.CopyFeatures_management(\"selection_lyr\", layer_name)\n",
    "    \n",
    "    Idw_name = \"Idw_\" + str(m) + '_' + str(d) + '_' + str(y)+ '_'  + str(h) + \".tif\"\n",
    "    \n",
    "    if arcpy.Exists(root + Idw_name):\n",
    "                arcpy.Delete_management(root + Idw_name)\n",
    "            \n",
    "    inPointFeatures = layer_name\n",
    "    zField = \"valeur\"\n",
    "\n",
    "#   Interpolations with IDW tool according to the pollution\n",
    "    \n",
    "    Idw = arcpy.sa.Idw(inPointFeatures, zField)\n",
    "    \n",
    "    return Idw"
   ]
  },
  {
   "cell_type": "markdown",
   "metadata": {},
   "source": [
    "### Difference_IDW function to return the difference between IDW1 and IDW2"
   ]
  },
  {
   "cell_type": "code",
   "execution_count": 5,
   "metadata": {},
   "outputs": [],
   "source": [
    "def Difference_IDW(Idw1,Idw2):\n",
    "\n",
    "#   Calculation of the raster showing pollution difference between the first date and the second date\n",
    "    \n",
    "    DifferenceRasterName = root + \"Difference\"\n",
    "    \n",
    "    if arcpy.Exists(DifferenceRasterName):\n",
    "                arcpy.Delete_management(DifferenceRasterName)\n",
    "\n",
    "    arcpy.CheckOutExtension(\"Spatial\")\n",
    "    \n",
    "    DifferenceRaster = Idw1 - Idw2\n",
    "    \n",
    "    return DifferenceRaster"
   ]
  },
  {
   "cell_type": "markdown",
   "metadata": {},
   "source": [
    "### SumPop function to return the number of inhabitants whose pollution has decreased by a certain user-defined threshold"
   ]
  },
  {
   "cell_type": "code",
   "execution_count": 6,
   "metadata": {},
   "outputs": [],
   "source": [
    "def SumPop(DifferenceRaster,delta):    \n",
    "\n",
    "    BinaryName = \"Binaire\"\n",
    "    \n",
    "    if arcpy.Exists(root + BinaryName):\n",
    "                arcpy.Delete_management(root + BinaryName)\n",
    "\n",
    "#   Use of the Con function to get a binary raster showing where pollution is over (-> 1) or under (-> 0) the threshold\n",
    "            \n",
    "    Binaire = arcpy.sa.Con(DifferenceRaster, 1, 0, \"VALUE > \" + str(delta))\n",
    "    \n",
    "#   We retrieve the population density from another file\n",
    "\n",
    "    population_density = arcpy.Raster(root + \"FranceRasters.gdb/France_ppp_2020_1km\")\n",
    "\n",
    "    PopulationName = \"Population\"\n",
    "    \n",
    "    if arcpy.Exists(root + PopulationName):\n",
    "                arcpy.Delete_management(root + PopulationName)\n",
    "            \n",
    "#   We multiply the binary raster with the population density to get a raster showing the density of population above\n",
    "#   the threshold\n",
    "\n",
    "    Population = Binaire * population_density\n",
    "    Population.save(root + PopulationName)\n",
    "    \n",
    "#   We convert this raster to a numpy array to be able to sum all the population\n",
    "\n",
    "    data = arcpy.RasterToNumPyArray(Population)\n",
    "    somme = np.sum(data)\n",
    "    return somme"
   ]
  },
  {
   "cell_type": "markdown",
   "metadata": {},
   "source": [
    "### varDelta function to return the graph of the number of inhabitants as a function of the pollution reduction threshold for 2 user-defined dates"
   ]
  },
  {
   "cell_type": "code",
   "execution_count": 7,
   "metadata": {},
   "outputs": [],
   "source": [
    "def varDelta(d1,m1,y1,d2,m2,y2,h1,h2,deltaMax):\n",
    "\n",
    "#   We check if the date exists, if so, we run the function\n",
    "\n",
    "    if test_date(d1,m1,y1,h1) and test_date(d2,m2,y2,h2):\n",
    "        \n",
    "        sumPopulation = []\n",
    "        delta = np.arange(deltaMax+1)\n",
    "        Idw1 = IDW(d1,m1,y1,h1)\n",
    "        Idw2 = IDW(d2,m2,y2,h2)\n",
    "        Raster = Difference_IDW(Idw1,Idw2)\n",
    "        \n",
    "#       We calculated the raster difference, and the for statement is used to calculate the number of inhabitants for every\n",
    "#       threshold from 0 to deltaMax\n",
    "        \n",
    "        for i in delta:\n",
    "            \n",
    "            sumPopulation.append(SumPop(Raster,i))\n",
    "#             print(i, \"\\n\", sumPopulation[i])\n",
    "\n",
    "        sumPopulation = np.array(sumPopulation) / 1e6 # to plot in millions of inhabitants\n",
    "\n",
    "        plt.plot(delta,sumPopulation)\n",
    "        plt.title(\"Change in the number of inhabitants whose air quality has improved between \" + str(d1) + '-' + str(m1) + '-' + str(y1) + \" and \" + str(d2) + '-' + str(m2) + '-' + str(y2))\n",
    "        plt.xlabel(\"Decrease of pollution (µg/m$^3$)\")\n",
    "        plt.ylabel(\"Number of inhabitants (millions)\")\n",
    "        plt.grid()\n",
    "        plt.ylim(0)\n",
    "    \n",
    "#   If the date doesn't exit in the database, we print an error message showing which date isn't correct\n",
    "    \n",
    "    elif not(test_date(d1,m1,y1,h1)) and not(test_date(d2,m2,y2,h2)):\n",
    "        print(\"Both dates are not in the database\")\n",
    "    elif not(test_date(d1,m1,y1,h1)):\n",
    "        print(\"The first date is not in the database\")\n",
    "    else:\n",
    "        print(\"The second date is not in the database\")"
   ]
  },
  {
   "attachments": {},
   "cell_type": "markdown",
   "metadata": {},
   "source": [
    "### Use of the varDelta function\n",
    "\n",
    "Results:\n",
   ]
  },
  {
   "cell_type": "markdown",
   "metadata": {},
   "source": [
    "### varDateMonth function to return the graph of the number of inhabitants whose pollution has decreased by more than a certain level each month between two user-defined dates"
   ]
  },
  {
   "cell_type": "code",
   "execution_count": 8,
   "metadata": {},
   "outputs": [],
   "source": [
    "def varDateMonth(d1,m1,y1,d2,m2,y2,h1,h2,delta):\n",
    "    \n",
    "#   We check if the date exists, if so, we run the function\n",
    "\n",
    "    if test_date(d1,m1,y1,h1) and test_date(d2,m2,y2,h2):\n",
    "        \n",
    "        month = m1+1\n",
    "        year = y1\n",
    "        sumPopulation = [0]\n",
    "\n",
    "        Idw1 = IDW(d1,m1,y1,h1)\n",
    "\n",
    "#       We calculate the amount of people each month from the first date to the second date relatively to the first date\n",
    "\n",
    "        while datetime(year,month,d1) < datetime(y2,m2,d2):\n",
    "\n",
    "            Idw2 = IDW(d2,month,year,h2)\n",
    "            Raster = Difference_IDW(Idw1,Idw2)\n",
    "            sumPopulation.append(SumPop(Raster,delta))\n",
    "\n",
    "#      We increment the date to do the calculation for the following month\n",
    "\n",
    "            if month < 12:\n",
    "                month += 1\n",
    "            else:\n",
    "                month = 1\n",
    "                year += 1\n",
    "\n",
    "#       We calculate the amount of people at the second date\n",
    "                \n",
    "        Idw2 = IDW(d2,m2,y2,h2)\n",
    "\n",
    "        Raster = Difference_IDW(Idw1,Idw2)\n",
    "\n",
    "        sumPopulation.append(SumPop(Raster,delta))\n",
    "\n",
    "        sumPopulation = np.array(sumPopulation) / 1e6\n",
    "\n",
    "        n_month = np.arange(len(sumPopulation))\n",
    "\n",
    "        plt.plot(n_month,sumPopulation)\n",
    "\n",
    "        plt.title(\"Number of inhabitants whose air quality has improved by \" + str(delta) + \" (µg/m$^3$) between \" + str(d2) + '-' + str(m2) + '-' + str(y2) + \" and \" + str(d1) + '-' + str(m1) + '-' + str(y1))\n",
    "        plt.xlabel(\"Nomber of month(s)\")\n",
    "        plt.ylabel(\"Number of inhabitants (millions)\")\n",
    "        \n",
    "#   If the date doesn't exit in the database, we print an error message showing which date isn't correct\n",
    "    \n",
    "    elif not(test_date(d1,m1,y1,h1)) and not(test_date(d2,m2,y2,h2)):\n",
    "        print(\"Both dates are not in the database\")\n",
    "    elif not(test_date(d1,m1,y1,h1)):\n",
    "        print(\"The first date is not in the database\")\n",
    "    else:\n",
    "        print(\"The second date is not in the database\")"
   ]
  },
  {
   "attachments": {},
   "cell_type": "markdown",
   "metadata": {},
   "source": [
    "### Use of the varDateMonth function\n",
    "\n",
    "Results:\n",
    "![Image](https://github.com/AlexEPF/EPF-RUDN-pollution_covid/blob/master/varDateMonth.png)"
   ]
  },
  {
   "cell_type": "markdown",
   "metadata": {},
   "source": [
    "### varDateDay function to return the graph of the number of inhabitants whose pollution has decreased by more than a certain level each day between two user-defined dates"
   ]
  },
  {
   "cell_type": "code",
   "execution_count": 9,
   "metadata": {},
   "outputs": [],
   "source": [
    "def varDateDay(d1,m1,y1,d2,m2,y2,h1,h2,delta):\n",
    "    \n",
    "#   We check if the date exists, if so, we run the function\n",
    "\n",
    "    if test_date(d1,m1,y1,h1) and test_date(d2,m2,y2,h2):\n",
    "        \n",
    "        month = m1\n",
    "        year = y1\n",
    "        day = d1+1\n",
    "        sumPopulation = [0]\n",
    "\n",
    "        monthsDays = [31,28,31,30,31,30,31,31,30,31,30,31]\n",
    "\n",
    "        Idw1 = IDW(d1,m1,y1,h1)\n",
    "        \n",
    "#       We calculate the amount of people each day from the first date to the second date relatively to the first date\n",
    "\n",
    "        while datetime(year,month,day) < datetime(y2,m2,d2):\n",
    "            Idw2 = IDW(day,month,year,h2)\n",
    "            Raster = Difference_IDW(Idw1,Idw2)\n",
    "            sumPopulation.append(SumPop(Raster,delta))\n",
    "\n",
    "            if (year%4 == 0 and year%100 != 0) or year%400 == 0:\n",
    "                monthsDays[1] = 29\n",
    "            else:\n",
    "                monthsDays[1] = 28\n",
    "\n",
    "            if day < monthsDays[month-1]:\n",
    "                day +=1\n",
    "            else:\n",
    "                day = 1\n",
    "\n",
    "                if month < 12:\n",
    "                    month += 1\n",
    "                else:\n",
    "                    month = 1\n",
    "                    year += 1\n",
    "\n",
    "#       We calculate the amount of people at the second date\n",
    "                    \n",
    "        Idw2 = IDW(d2,m2,y2,h2)\n",
    "        Raster = Difference_IDW(Idw1,Idw2)\n",
    "        sumPopulation.append(SumPop(Raster,delta))\n",
    "\n",
    "        sumPopulation = np.array(sumPopulation) / 1e6\n",
    "\n",
    "        n_day = np.arange(len(sumPopulation))\n",
    "\n",
    "        plt.plot(n_day,sumPopulation)\n",
    "        \n",
    "        plt.title(\"Number of inhabitants whose air quality has improved by \" + str(delta) + \" (µg/m$^3$) between \" + str(d2) + '-' + str(m2) + '-' + str(y2) + \" and \" + str(d1) + '-' + str(m1) + '-' + str(y1))\n",
    "        plt.xlabel(\"Number of day(s)\")\n",
    "        plt.ylabel(\"Number of inhabitants (millions)\")\n",
    "        \n",
    "#   If the date doesn't exit in the database, we print an error message showing which date isn't correct\n",
    "    \n",
    "    elif not(test_date(d1,m1,y1,h1)) and not(test_date(d2,m2,y2,h2)):\n",
    "        print(\"Both dates are not in the database\")\n",
    "    elif not(test_date(d1,m1,y1,h1)):\n",
    "        print(\"The first date is not in the database\")\n",
    "    else:\n",
    "        print(\"The second date is not in the database\")"
   ]
  },
  {
   "attachments": {},
   "cell_type": "markdown",
   "metadata": {},
   "source": [
    "### Use of the varDateDay function\n",
    "\n",
    "Results:\n",
    "![Image](https://github.com/AlexEPF/EPF-RUDN-pollution_covid/blob/master/varDateDay.png)"
   ]
  },
  {
   "cell_type": "markdown",
   "metadata": {},
   "source": [
    "## <span style=\"color:orange\"><span style=\"text-decoration:underline\">Main user interface</span>"
   ]
  },
  {
   "cell_type": "code",
   "execution_count": 10,
   "metadata": {},
   "outputs": [
    {
     "name": "stdout",
     "output_type": "stream",
     "text": [
      "To view the number of inhabitants as a function of the pollution reduction threshold for 2 user-defined dates, enter 'varDelta',\n",
      "To view the number of inhabitants whose pollution has decreased by more than a certain level each month between two user-defined dates, enter 'varDateMonth',\n",
      "To view the number of inhabitants whose pollution has decreased by more than a certain level each day between two user-defined dates, enter 'varDateDay'\n",
      "->varDelta\n",
      "\n",
      "\n",
      "Choose the day of the first date: 10\n",
      "Choose the month of the first date: 11\n",
      "Choose the year of the first date: 2019\n",
      "Choose the hour of the first date: 11\n",
      "Choose the day of the second date: 10\n",
      "Choose the month of the second date: 4\n",
      "Choose the year of the second date: 2020\n",
      "Choose the hour of the second date: 12\n",
      "Choose the threshold of pollution: 30\n",
      "varDelta function is running\n"
     ]
    },
    {
     "data": {
      "image/png": "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\n",
      "text/plain": [
       "<Figure size 432x288 with 1 Axes>"
      ]
     },
     "metadata": {
      "needs_background": "light"
     },
     "output_type": "display_data"
    }
   ],
   "source": [
    "view = input(\"To view the number of inhabitants as a function of the pollution reduction threshold for 2 user-defined dates, enter 'varDelta',\\nTo view the number of inhabitants whose pollution has decreased by more than a certain level each month between two user-defined dates, enter 'varDateMonth',\\nTo view the number of inhabitants whose pollution has decreased by more than a certain level each day between two user-defined dates, enter 'varDateDay'\\n->\")\n",
    "print(\"\\n\")\n",
    "\n",
    "day1 = int(input(\"Choose the day of the first date: \"))\n",
    "month1 = int(input(\"Choose the month of the first date: \"))\n",
    "year1 = int(input(\"Choose the year of the first date: \"))\n",
    "hour1 = int(input(\"Choose the hour of the first date: \"))\n",
    "\n",
    "day2 = int(input(\"Choose the day of the second date: \"))\n",
    "month2 = int(input(\"Choose the month of the second date: \"))\n",
    "year2 = int(input(\"Choose the year of the second date: \"))\n",
    "hour2 = int(input(\"Choose the hour of the second date: \"))\n",
    "\n",
    "threshold = int(input(\"Choose the threshold of pollution: \"))\n",
    "\n",
    "if view == \"varDelta\":\n",
    "    print(\"varDelta function is running\")\n",
    "    varDelta(day1,month1,year1,day2,month2,year2,hour1,hour2,threshold)\n",
    "elif view == \"varDateMonth\":\n",
    "    print(\"varDateMonth function is running\")\n",
    "    varDateMonth(day1,month1,year1,day2,month2,year2,hour1,hour2,threshold)\n",
    "elif view == \"varDateDay\":\n",
    "    print(\"varDateDay function is running\")\n",
    "    varDateDay(day1,month1,year1,day2,month2,year2,hour1,hour2,threshold)\n",
    "else:\n",
    "    print(\"The name is not recognized\")"
   ]
  },
  {
   "cell_type": "markdown",
   "metadata": {},
   "source": [
    "### Pop_pollu function to return the number of inhabitants whom pollution has fallen by a certain threshold between two user-defined dates. It is mostly useful to see the results, layers, rasters... in ArcGIS"
   ]
  },
  {
   "cell_type": "code",
   "execution_count": null,
   "metadata": {},
   "outputs": [],
   "source": [
    "def Pop_pollu(d1,m1,y1,d2,m2,y2,h1,h2,delta):\n",
    "\n",
    "    from numpy import sum\n",
    "    \n",
    "#   We check if the date exists, if so, we run the function\n",
    "    if test_date(d1,m1,y1,h1) and test_date(d2,m2,y2,h2):\n",
    "    \n",
    "        if h1 < 10:\n",
    "            h1 = \"0\" + str(h1)\n",
    "        if h2 < 10:\n",
    "            h2 = \"0\" + str(h2)\n",
    "\n",
    "        if d1 < 10:\n",
    "            d1 = \"0\" + str(d1)\n",
    "        if d2 < 10:\n",
    "            d2 = \"0\" + str(d2)\n",
    "\n",
    "        if m1 < 10:\n",
    "            m1 = \"0\" + str(m1)\n",
    "        if m2 < 10:\n",
    "            m2 = \"0\" + str(m2)\n",
    "\n",
    "        date1 = \"'\" + str(y1) + '-' + str(m1) + '-' + str(d1) + 'T' + str(h1) + ':00:00.000Z' + \"'\"\n",
    "        date2 = \"'\" + str(y2) + '-' + str(m2) + '-' + str(d2) + 'T' + str(h2) + ':00:00.000Z' + \"'\"\n",
    "\n",
    "        if arcpy.Exists(\"selection_lyr\"):\n",
    "            arcpy.Delete_management(\"selection_lyr\")\n",
    "\n",
    "        arcpy.MakeFeatureLayer_management(\"mes_idf_horaire_no2.shp\", \"selection_lyr\")\n",
    "\n",
    "        layer_name1 = \"Result_\" +  str(m1) + '_' + str(d1) + '_' + str(y1)+ '_'  + str(h1) + \".shp\"\n",
    "        layer_name2 = \"Result_\" +  str(m2) + '_' + str(d2) + '_' + str(y2)+ '_'  + str(h2) + \".shp\"\n",
    "\n",
    "        if arcpy.Exists(layer_name1):\n",
    "            arcpy.Delete_management(layer_name1)\n",
    "\n",
    "        if arcpy.Exists(layer_name2):\n",
    "            arcpy.Delete_management(layer_name2)\n",
    "\n",
    "        qry1 = \"date_debut = \" + date1\n",
    "\n",
    "        qry2 = \"date_debut = \" + date2\n",
    "\n",
    "#       SQL queries to select the results of the dates entered\n",
    "        \n",
    "        arcpy.SelectLayerByAttribute_management(\"selection_lyr\", 'NEW_SELECTION', qry1)\n",
    "        arcpy.CopyFeatures_management(\"selection_lyr\", layer_name1)\n",
    "\n",
    "        arcpy.SelectLayerByAttribute_management(\"selection_lyr\", 'NEW_SELECTION', qry2)\n",
    "        arcpy.CopyFeatures_management(\"selection_lyr\", layer_name2)\n",
    "\n",
    "        Idw_name1 = \"Idw_\" + str(m1) + '_' + str(d1) + '_' + str(y1)+ '_'  + str(h1) + \".tif\"\n",
    "        Idw_name2 = \"Idw_\" + str(m2) + '_' + str(d2) + '_' + str(y2)+ '_'  + str(h2) + \".tif\"\n",
    "\n",
    "        if arcpy.Exists(Idw_name1):\n",
    "                    arcpy.Delete_management(Idw_name1)\n",
    "\n",
    "        if arcpy.Exists(Idw_name2):\n",
    "                arcpy.Delete_management(Idw_name2)\n",
    "\n",
    "        inPointFeatures1 = layer_name1\n",
    "        inPointFeatures2 = layer_name2\n",
    "        zField = \"valeur\"\n",
    "\n",
    "#       Interpolations with IDW tool according to the pollution\n",
    "        \n",
    "        Idw1 = arcpy.sa.Idw(inPointFeatures1, zField)\n",
    "        Idw1.save(Idw_name1)\n",
    "\n",
    "        Idw2 = arcpy.sa.Idw(inPointFeatures2, zField)\n",
    "        Idw2.save(Idw_name2)\n",
    "\n",
    "        DifferenceRasterName = \"Difference\"\n",
    "\n",
    "        if arcpy.Exists(DifferenceRasterName):\n",
    "                    arcpy.Delete_management(DifferenceRasterName)\n",
    "\n",
    "        arcpy.CheckOutExtension(\"Spatial\")\n",
    "        \n",
    "#       Calculation of the raster showing pollution difference between the first date and the second date\n",
    "        \n",
    "        DifferenceRaster = Idw1 - Idw2\n",
    "        DifferenceRaster.save(DifferenceRasterName)\n",
    "\n",
    "        BinaryName = \"Binaire\"\n",
    "\n",
    "        if arcpy.Exists(BinaryName):\n",
    "                    arcpy.Delete_management(BinaryName)\n",
    "                \n",
    "#       Use of the Con function to get a binary raster showing where pollution is over (-> 1) or under (-> 0) the threshold\n",
    "\n",
    "        Binaire = arcpy.sa.Con(DifferenceRaster, 1, 0, \"VALUE > \" + str(delta))\n",
    "        Binaire.save(BinaryName)\n",
    "\n",
    "#       We retrieve the population density from another file\n",
    "        \n",
    "        population_density = arcpy.Raster(\"FranceRasters.gdb/France_ppp_2020_1km\")\n",
    "\n",
    "        PopulationName = \"Population\"\n",
    "\n",
    "        if arcpy.Exists(PopulationName):\n",
    "                    arcpy.Delete_management(PopulationName)\n",
    "\n",
    "#       We multiply the binary raster with the population density to get a raster showing the density of population above\n",
    "#       the threshold\n",
    "                \n",
    "        Population = Binaire * population_density\n",
    "        Population.save(PopulationName)\n",
    "\n",
    "#       We convert this raster to a numpy array to be able to sum all the population\n",
    "\n",
    "        data = arcpy.RasterToNumPyArray(Population)\n",
    "        somme = sum(data)\n",
    "        \n",
    "        return somme\n",
    "        \n",
    "#   If the date doesn't exit in the database, we print an error message showing which date isn't correct\n",
    "        \n",
    "    elif not(test_date(d1,m1,y1,h1)) and not(test_date(d2,m2,y2,h2)):\n",
    "        print(\"Both dates are not in the database\")\n",
    "    elif not(test_date(d1,m1,y1,h1)):\n",
    "        print(\"The first date is not in the database\")\n",
    "    else:\n",
    "        print(\"The second date is not in the database\")"
   ]
  },
  {
   "attachments": {
    "image.png": {
     "image/png": "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"
    }
   },
   "cell_type": "markdown",
   "metadata": {},
   "source": [
    "### Use of the Pop_pollu function\n",
    "\n",
    "Results:\n",
    "![image.png](attachment:image.png)"
   ]
  },
  {
   "attachments": {},
   "cell_type": "markdown",
   "metadata": {},
   "source": [
    "Results in ArcGIS:\n",
    "\n",
    "Interpolations:\n",
    "![Image](https://github.com/AlexEPF/EPF-RUDN-pollution_covid/blob/master/IDW.png)"
   ]
  },
  {
   "attachments": {},
   "cell_type": "markdown",
   "metadata": {},
   "source": [
    "Difference raster:\n",
    "![Image](https://github.com/AlexEPF/EPF-RUDN-pollution_covid/blob/master/Difference.png)"
   ]
  },
  {
   "attachments": {},
   "cell_type": "markdown",
   "metadata": {},
   "source": [
    "Binary raster:\n",
    "![Image](https://github.com/AlexEPF/EPF-RUDN-pollution_covid/blob/master/Binary.png)"
   ]
  },
  {
   "attachments": {},
   "cell_type": "markdown",
   "metadata": {},
   "source": [
    "Population density raster:\n",
    "![Image](https://github.com/AlexEPF/EPF-RUDN-pollution_covid/blob/master/Population.png)"
   ]
  },
  {
   "cell_type": "markdown",
   "metadata": {},
   "source": [
    "###  <span style=\"color:orange\">User interface for the Pop_pollu function</style>"
   ]
  },
  {
   "cell_type": "code",
   "execution_count": null,
   "metadata": {},
   "outputs": [],
   "source": [
    "day1 = int(input(\"Choose the day of the first date: \"))\n",
    "month1 = int(input(\"Choose the month of the first date: \"))\n",
    "year1 = int(input(\"Choose the year of the first date: \"))\n",
    "hour1 = int(input(\"Choose the hour of the first date: \"))\n",
    "\n",
    "day2 = int(input(\"Choose the day of the second date: \"))\n",
    "month2 = int(input(\"Choose the month of the second date: \"))\n",
    "year2 = int(input(\"Choose the year of the second date: \"))\n",
    "hour2 = int(input(\"Choose the hour of the second date: \"))\n",
    "\n",
    "threshold = int(input(\"Choose the threshold of pollution: \"))\n",
    "\n",
    "amount = Pop_pollu(day1,month1,year1,day2,month2,year2,hour1,hour2,threshold)\n",
    "\n",
    "print(\"\\nNO2 levels decreased by at least\", threshold, \"(µg/m3) for\", round(amount), \"people between\",\n",
    "      str(day1) + \"-\" + str(month1) + \"-\" + str(year1), \"at\",\n",
    "      hour1, \"and\", str(day2) + \"-\" + str(month2) + \"-\" + str(year2), \"at\", hour2)\n",
    "      "
   ]
  }
 ],
 "metadata": {
  "kernelspec": {
   "display_name": "Python 3",
   "language": "python",
   "name": "python3"
  },
  "language_info": {
   "codemirror_mode": {
    "name": "ipython",
    "version": 3
   },
   "file_extension": ".py",
   "mimetype": "text/x-python",
   "name": "python",
   "nbconvert_exporter": "python",
   "pygments_lexer": "ipython3",
   "version": "3.6.9"
  }
 },
 "nbformat": 4,
 "nbformat_minor": 2
}
